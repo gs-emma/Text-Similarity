{
 "cells": [
  {
   "cell_type": "code",
   "execution_count": 7,
   "id": "edcab56c",
   "metadata": {},
   "outputs": [],
   "source": [
    "import tensorflow      \n",
    "import pandas as pd    \n",
    "import tensorflow_hub as hub\n",
    "\n",
    "from numpy import dot          \n",
    "from numpy.linalg import norm          "
   ]
  },
  {
   "cell_type": "code",
   "execution_count": 3,
   "id": "eaba8446",
   "metadata": {},
   "outputs": [
    {
     "name": "stderr",
     "output_type": "stream",
     "text": [
      "2022-06-15 16:27:27.631540: I tensorflow/core/platform/cpu_feature_guard.cc:193] This TensorFlow binary is optimized with oneAPI Deep Neural Network Library (oneDNN) to use the following CPU instructions in performance-critical operations:  AVX2 FMA\n",
      "To enable them in other operations, rebuild TensorFlow with the appropriate compiler flags.\n"
     ]
    }
   ],
   "source": [
    "module_url = \"https://tfhub.dev/google/universal-sentence-encoder/4\" \n",
    "model = hub.load(module_url)"
   ]
  },
  {
   "cell_type": "code",
   "execution_count": 13,
   "id": "3084078a",
   "metadata": {},
   "outputs": [],
   "source": [
    "text = [\"She is religious, but does not believe in one specific religion.\", \n",
    "        \"She is Christian and believes in God.\", \n",
    "        \"He is religious, but doesn't believe in one religion.\", \n",
    "        \"She is religious and believes in many religions.\"]"
   ]
  },
  {
   "cell_type": "code",
   "execution_count": 14,
   "id": "7a04f2a9",
   "metadata": {},
   "outputs": [],
   "source": [
    "similarity_score = []\n",
    "\n",
    "for i in range(1, len(text)):\n",
    "    text_embeddings = model([text[0], text[i]])\n",
    "    text_np = tf.make_ndarray(tf.make_tensor_proto(text_embeddings))\n",
    "    cos_sim = dot(text_np[0], text_np[1])/(norm(text_np[0])*norm(text_np[1]))\n",
    "    similarity_score.append(cos_sim)"
   ]
  },
  {
   "cell_type": "code",
   "execution_count": 15,
   "id": "82704805",
   "metadata": {},
   "outputs": [
    {
     "name": "stdout",
     "output_type": "stream",
     "text": [
      "[0.6568165, 0.813207, 0.7449631]\n"
     ]
    }
   ],
   "source": [
    "print(similarity_score)"
   ]
  }
 ],
 "metadata": {
  "kernelspec": {
   "display_name": "Python 3 (ipykernel)",
   "language": "python",
   "name": "python3"
  },
  "language_info": {
   "codemirror_mode": {
    "name": "ipython",
    "version": 3
   },
   "file_extension": ".py",
   "mimetype": "text/x-python",
   "name": "python",
   "nbconvert_exporter": "python",
   "pygments_lexer": "ipython3",
   "version": "3.8.8"
  }
 },
 "nbformat": 4,
 "nbformat_minor": 5
}
