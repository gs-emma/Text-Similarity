{
 "cells": [
  {
   "cell_type": "code",
   "execution_count": 6,
   "id": "edcab56c",
   "metadata": {},
   "outputs": [],
   "source": [
    "import tensorflow as tf    \n",
    "import pandas as pd    \n",
    "import tensorflow_hub as hub\n",
    "\n",
    "import numpy as np\n",
    "from numpy import dot          \n",
    "from numpy.linalg import norm  \n",
    "from sklearn.metrics import roc_auc_score"
   ]
  },
  {
   "cell_type": "code",
   "execution_count": 2,
   "id": "eaba8446",
   "metadata": {},
   "outputs": [
    {
     "name": "stderr",
     "output_type": "stream",
     "text": [
      "2022-06-16 10:16:29.890628: I tensorflow/core/platform/cpu_feature_guard.cc:193] This TensorFlow binary is optimized with oneAPI Deep Neural Network Library (oneDNN) to use the following CPU instructions in performance-critical operations:  AVX2 FMA\n",
      "To enable them in other operations, rebuild TensorFlow with the appropriate compiler flags.\n"
     ]
    }
   ],
   "source": [
    "module_url = \"https://tfhub.dev/google/universal-sentence-encoder/4\" \n",
    "model = hub.load(module_url)"
   ]
  },
  {
   "cell_type": "code",
   "execution_count": 3,
   "id": "879726a7",
   "metadata": {},
   "outputs": [],
   "source": [
    "data = pd.read_csv('testing_data.csv')"
   ]
  },
  {
   "cell_type": "code",
   "execution_count": 4,
   "id": "78f46434",
   "metadata": {},
   "outputs": [],
   "source": [
    "def test(data):    \n",
    "    sim_arr = []\n",
    "    \n",
    "    text1 = data.text1\n",
    "    text2 = data.text2\n",
    "    \n",
    "    for i in range(len(data)):\n",
    "        text_embeddings = model([text1[i], text2[i]])\n",
    "        text_np = tf.make_ndarray(tf.make_tensor_proto(text_embeddings))\n",
    "        cos_sim = dot(text_np[0], text_np[1])/(norm(text_np[0])*norm(text_np[1]))\n",
    "        \n",
    "        sim_arr.append(cos_sim)\n",
    "    \n",
    "    return sim_arr"
   ]
  },
  {
   "cell_type": "code",
   "execution_count": 7,
   "id": "82704805",
   "metadata": {},
   "outputs": [],
   "source": [
    "similarity_value = test(data)"
   ]
  },
  {
   "cell_type": "code",
   "execution_count": 8,
   "id": "6bcd5178",
   "metadata": {},
   "outputs": [
    {
     "name": "stdout",
     "output_type": "stream",
     "text": [
      "[0.817567, 0.78017634, 0.6543011, 0.8676386, 0.8620814, 0.84284765, 0.7564783, 0.73701763, 0.4679917, 0.49209768, 0.5090759, 0.85890716, 0.8722362, 0.89236903]\n"
     ]
    }
   ],
   "source": [
    "print(similarity_value)"
   ]
  },
  {
   "cell_type": "code",
   "execution_count": 9,
   "id": "de65d3c5",
   "metadata": {},
   "outputs": [],
   "source": [
    "output_ans = []\n",
    "\n",
    "for i in similarity_value:\n",
    "    if i >= 0.81:\n",
    "        output_ans.append(1)\n",
    "    else:\n",
    "        output_ans.append(0)"
   ]
  },
  {
   "cell_type": "code",
   "execution_count": 11,
   "id": "637fb446",
   "metadata": {},
   "outputs": [
    {
     "name": "stdout",
     "output_type": "stream",
     "text": [
      "[1, 0, 0, 1, 1, 1, 0, 0, 0, 0, 0, 1, 1, 1]\n",
      "0     1\n",
      "1     0\n",
      "2     1\n",
      "3     0\n",
      "4     1\n",
      "5     0\n",
      "6     1\n",
      "7     0\n",
      "8     0\n",
      "9     1\n",
      "10    0\n",
      "11    1\n",
      "12    1\n",
      "13    0\n",
      "Name: ans, dtype: int64\n"
     ]
    }
   ],
   "source": [
    "print(output_ans)\n",
    "print(data.ans)"
   ]
  },
  {
   "cell_type": "code",
   "execution_count": 10,
   "id": "dca2954e",
   "metadata": {},
   "outputs": [
    {
     "name": "stdout",
     "output_type": "stream",
     "text": [
      "roc_auc_score:  0.5714285714285714\n"
     ]
    }
   ],
   "source": [
    "print('roc_auc_score: ', roc_auc_score(data.ans, output_ans))"
   ]
  },
  {
   "cell_type": "code",
   "execution_count": null,
   "id": "7afe681b",
   "metadata": {},
   "outputs": [],
   "source": []
  }
 ],
 "metadata": {
  "kernelspec": {
   "display_name": "Python 3 (ipykernel)",
   "language": "python",
   "name": "python3"
  },
  "language_info": {
   "codemirror_mode": {
    "name": "ipython",
    "version": 3
   },
   "file_extension": ".py",
   "mimetype": "text/x-python",
   "name": "python",
   "nbconvert_exporter": "python",
   "pygments_lexer": "ipython3",
   "version": "3.8.8"
  }
 },
 "nbformat": 4,
 "nbformat_minor": 5
}
