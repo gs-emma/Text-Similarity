{
 "cells": [
  {
   "cell_type": "code",
   "execution_count": 35,
   "id": "7366f64f",
   "metadata": {},
   "outputs": [],
   "source": [
    "from sentence_transformers import SentenceTransformer\n",
    "import numpy as np\n",
    "import pandas as pd\n",
    "from sklearn.metrics.pairwise import cosine_similarity\n",
    "from sklearn.metrics import roc_auc_score"
   ]
  },
  {
   "cell_type": "code",
   "execution_count": 38,
   "id": "f73f532a",
   "metadata": {},
   "outputs": [],
   "source": [
    "data = pd.read_csv('testing_data.csv')"
   ]
  },
  {
   "cell_type": "code",
   "execution_count": 39,
   "id": "62a8daae",
   "metadata": {},
   "outputs": [
    {
     "data": {
      "text/html": [
       "<div>\n",
       "<style scoped>\n",
       "    .dataframe tbody tr th:only-of-type {\n",
       "        vertical-align: middle;\n",
       "    }\n",
       "\n",
       "    .dataframe tbody tr th {\n",
       "        vertical-align: top;\n",
       "    }\n",
       "\n",
       "    .dataframe thead th {\n",
       "        text-align: right;\n",
       "    }\n",
       "</style>\n",
       "<table border=\"1\" class=\"dataframe\">\n",
       "  <thead>\n",
       "    <tr style=\"text-align: right;\">\n",
       "      <th></th>\n",
       "      <th>text1</th>\n",
       "      <th>text2</th>\n",
       "      <th>ans</th>\n",
       "    </tr>\n",
       "  </thead>\n",
       "  <tbody>\n",
       "    <tr>\n",
       "      <th>0</th>\n",
       "      <td>Sometimes she wished she were older</td>\n",
       "      <td>Sometimes she wanted to be older</td>\n",
       "      <td>1</td>\n",
       "    </tr>\n",
       "    <tr>\n",
       "      <th>1</th>\n",
       "      <td>Evelyn really likes to eat ice cream, but Harr...</td>\n",
       "      <td>Evelyn loves to eat ice cream and Harry loves ...</td>\n",
       "      <td>0</td>\n",
       "    </tr>\n",
       "    <tr>\n",
       "      <th>2</th>\n",
       "      <td>Oscar is a bad student because he doesn't go t...</td>\n",
       "      <td>He is a bad student because he doesn't attend ...</td>\n",
       "      <td>1</td>\n",
       "    </tr>\n",
       "    <tr>\n",
       "      <th>3</th>\n",
       "      <td>I actually stopped drawing in university</td>\n",
       "      <td>I actually stopped drawing in high school</td>\n",
       "      <td>0</td>\n",
       "    </tr>\n",
       "    <tr>\n",
       "      <th>4</th>\n",
       "      <td>I love peaches and Mary does too. It makes her...</td>\n",
       "      <td>Mary loves peaches. I do too. Peaches make her...</td>\n",
       "      <td>1</td>\n",
       "    </tr>\n",
       "  </tbody>\n",
       "</table>\n",
       "</div>"
      ],
      "text/plain": [
       "                                               text1  \\\n",
       "0                Sometimes she wished she were older   \n",
       "1  Evelyn really likes to eat ice cream, but Harr...   \n",
       "2  Oscar is a bad student because he doesn't go t...   \n",
       "3           I actually stopped drawing in university   \n",
       "4  I love peaches and Mary does too. It makes her...   \n",
       "\n",
       "                                               text2  ans  \n",
       "0                   Sometimes she wanted to be older    1  \n",
       "1  Evelyn loves to eat ice cream and Harry loves ...    0  \n",
       "2  He is a bad student because he doesn't attend ...    1  \n",
       "3         I actually stopped drawing in high school     0  \n",
       "4  Mary loves peaches. I do too. Peaches make her...    1  "
      ]
     },
     "execution_count": 39,
     "metadata": {},
     "output_type": "execute_result"
    }
   ],
   "source": [
    "data.head()"
   ]
  },
  {
   "cell_type": "code",
   "execution_count": 4,
   "id": "155d2609",
   "metadata": {},
   "outputs": [],
   "source": [
    "model = SentenceTransformer('bert-base-nli-mean-tokens')"
   ]
  },
  {
   "cell_type": "code",
   "execution_count": 50,
   "id": "f02ebf31",
   "metadata": {},
   "outputs": [],
   "source": [
    "def test(data):    \n",
    "    sim_arr = []\n",
    "    \n",
    "    text1 = data.text1\n",
    "    text2 = data.text2\n",
    "    \n",
    "    for i in range(len(data)):\n",
    "        text1_embed = model.encode([text1[i]])\n",
    "        text2_embed = model.encode([text2[i]])\n",
    "        \n",
    "        sim = cosine_similarity(text1_embed, text2_embed)\n",
    "        \n",
    "        sim_arr.append(sim)\n",
    "    \n",
    "    return sim_arr"
   ]
  },
  {
   "cell_type": "code",
   "execution_count": 51,
   "id": "3483e93b",
   "metadata": {},
   "outputs": [],
   "source": [
    "similarity_value = test(data)"
   ]
  },
  {
   "cell_type": "code",
   "execution_count": 52,
   "id": "ec0c13fe",
   "metadata": {},
   "outputs": [
    {
     "name": "stdout",
     "output_type": "stream",
     "text": [
      "0.92602557\n",
      "0.7161504\n",
      "0.9502964\n",
      "0.90253365\n",
      "0.9898263\n",
      "0.8316077\n",
      "0.7744621\n",
      "0.83685005\n",
      "0.24968012\n",
      "0.692431\n",
      "0.7163959\n",
      "0.874859\n",
      "0.938828\n",
      "0.9514338\n"
     ]
    }
   ],
   "source": [
    "output_ans = []\n",
    "\n",
    "for i in similarity_value:\n",
    "    value = i.flatten()[0]\n",
    "    print(value)\n",
    "    if value >= 0.91:\n",
    "        output_ans.append(1)\n",
    "    else:\n",
    "        output_ans.append(0)"
   ]
  },
  {
   "cell_type": "code",
   "execution_count": 53,
   "id": "71fe0d62",
   "metadata": {},
   "outputs": [
    {
     "name": "stdout",
     "output_type": "stream",
     "text": [
      "[1, 0, 1, 0, 1, 0, 0, 0, 0, 0, 0, 0, 1, 1]\n"
     ]
    }
   ],
   "source": [
    "print(output_ans)"
   ]
  },
  {
   "cell_type": "code",
   "execution_count": 55,
   "id": "89556756",
   "metadata": {},
   "outputs": [
    {
     "name": "stdout",
     "output_type": "stream",
     "text": [
      "0     1\n",
      "1     0\n",
      "2     1\n",
      "3     0\n",
      "4     1\n",
      "5     0\n",
      "6     1\n",
      "7     0\n",
      "8     0\n",
      "9     1\n",
      "10    0\n",
      "11    1\n",
      "12    1\n",
      "13    0\n",
      "Name: ans, dtype: int64\n"
     ]
    }
   ],
   "source": [
    "print(data.ans)"
   ]
  },
  {
   "cell_type": "code",
   "execution_count": 56,
   "id": "e29f813d",
   "metadata": {},
   "outputs": [
    {
     "name": "stdout",
     "output_type": "stream",
     "text": [
      "roc_auc_score:  0.7142857142857144\n"
     ]
    }
   ],
   "source": [
    "print('roc_auc_score: ', roc_auc_score(data.ans, output_ans))"
   ]
  },
  {
   "cell_type": "code",
   "execution_count": null,
   "id": "d14ac673",
   "metadata": {},
   "outputs": [],
   "source": []
  }
 ],
 "metadata": {
  "kernelspec": {
   "display_name": "Python 3 (ipykernel)",
   "language": "python",
   "name": "python3"
  },
  "language_info": {
   "codemirror_mode": {
    "name": "ipython",
    "version": 3
   },
   "file_extension": ".py",
   "mimetype": "text/x-python",
   "name": "python",
   "nbconvert_exporter": "python",
   "pygments_lexer": "ipython3",
   "version": "3.8.8"
  }
 },
 "nbformat": 4,
 "nbformat_minor": 5
}
